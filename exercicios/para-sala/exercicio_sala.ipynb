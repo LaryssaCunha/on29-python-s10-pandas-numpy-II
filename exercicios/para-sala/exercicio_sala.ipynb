{
  "nbformat": 4,
  "nbformat_minor": 0,
  "metadata": {
    "colab": {
      "provenance": [],
      "authorship_tag": "ABX9TyN2RCNr7YtMipt6Ol41YI5x",
      "include_colab_link": true
    },
    "kernelspec": {
      "name": "python3",
      "display_name": "Python 3"
    },
    "language_info": {
      "name": "python"
    }
  },
  "cells": [
    {
      "cell_type": "markdown",
      "metadata": {
        "id": "view-in-github",
        "colab_type": "text"
      },
      "source": [
        "<a href=\"https://colab.research.google.com/github/LaryssaCunha/on29-python-s10-pandas-numpy-II/blob/main/exercicios/para-sala/exercicio_sala.ipynb\" target=\"_parent\"><img src=\"https://colab.research.google.com/assets/colab-badge.svg\" alt=\"Open In Colab\"/></a>"
      ]
    },
    {
      "cell_type": "code",
      "execution_count": null,
      "metadata": {
        "id": "rVr2pzw6Tm8u"
      },
      "outputs": [],
      "source": []
    }
  ]
}